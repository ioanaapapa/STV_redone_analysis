{
 "cells": [
  {
   "cell_type": "code",
   "execution_count": 1,
   "metadata": {},
   "outputs": [],
   "source": [
    "import MDAnalysis as mda"
   ]
  },
  {
   "cell_type": "code",
   "execution_count": 4,
   "metadata": {},
   "outputs": [
    {
     "name": "stderr",
     "output_type": "stream",
     "text": [
      "/home/php24iap/miniconda3/lib/python3.12/site-packages/MDAnalysis/topology/TOPParser.py:307: UserWarning: Unknown ATOMIC_NUMBER value found for some atoms, these have been given an empty element record. If needed these can be guessed using universe.guess_TopologyAttrs(to_guess=['elements']).\n",
      "  warnings.warn(msg)\n",
      "/home/php24iap/miniconda3/lib/python3.12/site-packages/MDAnalysis/core/universe.py:150: UserWarning: No coordinate reader found for wt_STV/STV_solvated_box.prmtop. Skipping this file.\n",
      "  warnings.warn('No coordinate reader found for {}. Skipping '\n",
      "/home/php24iap/miniconda3/lib/python3.12/site-packages/MDAnalysis/core/universe.py:150: UserWarning: No coordinate reader found for wt_STV+4BTN/STV_4BTN_solvated_box.prmtop. Skipping this file.\n",
      "  warnings.warn('No coordinate reader found for {}. Skipping '\n",
      "/home/php24iap/miniconda3/lib/python3.12/site-packages/MDAnalysis/core/universe.py:150: UserWarning: No coordinate reader found for BTN_4/BTN_solvated_box.prmtop. Skipping this file.\n",
      "  warnings.warn('No coordinate reader found for {}. Skipping '\n",
      "/home/php24iap/miniconda3/lib/python3.12/site-packages/MDAnalysis/core/universe.py:150: UserWarning: No coordinate reader found for water/bulk_water_box.prmtop. Skipping this file.\n",
      "  warnings.warn('No coordinate reader found for {}. Skipping '\n"
     ]
    }
   ],
   "source": [
    "u_STV = mda.Universe(\"wt_STV/STV_solvated_box.prmtop\")\n",
    "u_STV_4BTN = mda.Universe(\"wt_STV+4BTN/STV_4BTN_solvated_box.prmtop\")\n",
    "u_BTN_4 = mda.Universe(\"BTN_4/BTN_solvated_box.prmtop\")\n",
    "u_water = mda.Universe(\"water/bulk_water_box.prmtop\")"
   ]
  },
  {
   "cell_type": "code",
   "execution_count": null,
   "metadata": {},
   "outputs": [],
   "source": [
    "waters_STV = u_STV.select_atoms(\"resname WAT\")\n",
    "waters_STV.residues\n",
    "\n",
    "\n"
   ]
  },
  {
   "cell_type": "code",
   "execution_count": 16,
   "metadata": {},
   "outputs": [
    {
     "data": {
      "text/plain": [
       "<ResidueGroup with 84 residues>"
      ]
     },
     "execution_count": 16,
     "metadata": {},
     "output_type": "execute_result"
    }
   ],
   "source": [
    "Na_STV = u_STV.select_atoms(\"resname Na+\")\n",
    "Na_STV.residues"
   ]
  },
  {
   "cell_type": "code",
   "execution_count": 17,
   "metadata": {},
   "outputs": [
    {
     "data": {
      "text/plain": [
       "<ResidueGroup with 80 residues>"
      ]
     },
     "execution_count": 17,
     "metadata": {},
     "output_type": "execute_result"
    }
   ],
   "source": [
    "Cl_STV = u_STV.select_atoms(\"resname Cl-\")\n",
    "Cl_STV.residues"
   ]
  },
  {
   "cell_type": "code",
   "execution_count": 18,
   "metadata": {},
   "outputs": [
    {
     "data": {
      "text/plain": [
       "<ResidueGroup with 6000 residues>"
      ]
     },
     "execution_count": 18,
     "metadata": {},
     "output_type": "execute_result"
    }
   ],
   "source": [
    "waters_BTN4 = u_BTN_4.select_atoms(\"resname WAT\")\n",
    "waters_BTN4.residues\n",
    "\n",
    "\n"
   ]
  },
  {
   "cell_type": "code",
   "execution_count": 19,
   "metadata": {},
   "outputs": [
    {
     "data": {
      "text/plain": [
       "<ResidueGroup with 21 residues>"
      ]
     },
     "execution_count": 19,
     "metadata": {},
     "output_type": "execute_result"
    }
   ],
   "source": [
    "Na_BTN4 = u_BTN_4.select_atoms(\"resname Na+\")\n",
    "Na_BTN4.residues"
   ]
  },
  {
   "cell_type": "code",
   "execution_count": 20,
   "metadata": {},
   "outputs": [
    {
     "data": {
      "text/plain": [
       "<ResidueGroup with 20 residues>"
      ]
     },
     "execution_count": 20,
     "metadata": {},
     "output_type": "execute_result"
    }
   ],
   "source": [
    "Cl_BTN4 = u_BTN_4.select_atoms(\"resname Cl-\")\n",
    "Cl_BTN4.residues"
   ]
  },
  {
   "cell_type": "code",
   "execution_count": 22,
   "metadata": {},
   "outputs": [
    {
     "data": {
      "text/plain": [
       "<ResidueGroup with 24000 residues>"
      ]
     },
     "execution_count": 22,
     "metadata": {},
     "output_type": "execute_result"
    }
   ],
   "source": [
    "waters_STV_4BTN = u_STV_4BTN.select_atoms(\"resname WAT\")\n",
    "waters_STV_4BTN.residues\n"
   ]
  },
  {
   "cell_type": "code",
   "execution_count": 24,
   "metadata": {},
   "outputs": [
    {
     "data": {
      "text/plain": [
       "<ResidueGroup with 88 residues>"
      ]
     },
     "execution_count": 24,
     "metadata": {},
     "output_type": "execute_result"
    }
   ],
   "source": [
    "Na_STV_4BTN = u_STV_4BTN.select_atoms(\"resname Na+\")\n",
    "Na_STV_4BTN.residues"
   ]
  },
  {
   "cell_type": "code",
   "execution_count": 25,
   "metadata": {},
   "outputs": [
    {
     "data": {
      "text/plain": [
       "<ResidueGroup with 80 residues>"
      ]
     },
     "execution_count": 25,
     "metadata": {},
     "output_type": "execute_result"
    }
   ],
   "source": [
    "Cl_STV_4BTN = u_STV_4BTN.select_atoms(\"resname Cl-\")\n",
    "Cl_STV_4BTN.residues"
   ]
  },
  {
   "cell_type": "code",
   "execution_count": 23,
   "metadata": {},
   "outputs": [
    {
     "data": {
      "text/plain": [
       "<ResidueGroup with 24000 residues>"
      ]
     },
     "execution_count": 23,
     "metadata": {},
     "output_type": "execute_result"
    }
   ],
   "source": [
    "waters_bulk = u_water.select_atoms(\"resname WAT\")\n",
    "waters_bulk.residues"
   ]
  },
  {
   "cell_type": "code",
   "execution_count": 26,
   "metadata": {},
   "outputs": [
    {
     "data": {
      "text/plain": [
       "<ResidueGroup with 80 residues>"
      ]
     },
     "execution_count": 26,
     "metadata": {},
     "output_type": "execute_result"
    }
   ],
   "source": [
    "Na_water = u_water.select_atoms(\"resname Na+\")\n",
    "Na_water.residues"
   ]
  },
  {
   "cell_type": "code",
   "execution_count": 27,
   "metadata": {},
   "outputs": [
    {
     "data": {
      "text/plain": [
       "<ResidueGroup with 80 residues>"
      ]
     },
     "execution_count": 27,
     "metadata": {},
     "output_type": "execute_result"
    }
   ],
   "source": [
    "Cl_water = u_water.select_atoms(\"resname Cl-\")\n",
    "Cl_water.residues"
   ]
  }
 ],
 "metadata": {
  "kernelspec": {
   "display_name": "base",
   "language": "python",
   "name": "python3"
  },
  "language_info": {
   "codemirror_mode": {
    "name": "ipython",
    "version": 3
   },
   "file_extension": ".py",
   "mimetype": "text/x-python",
   "name": "python",
   "nbconvert_exporter": "python",
   "pygments_lexer": "ipython3",
   "version": "3.12.7"
  }
 },
 "nbformat": 4,
 "nbformat_minor": 2
}
